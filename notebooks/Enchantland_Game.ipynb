{
 "cells": [
  {
   "cell_type": "code",
   "execution_count": 1,
   "id": "4a04ea2c",
   "metadata": {},
   "outputs": [
    {
     "name": "stdout",
     "output_type": "stream",
     "text": [
      "Type your name: Player\n",
      "Welcome Player  to Enchantland! Good luck on your journey back home!\n",
      "You are walking on a dirt path and have reached a fork in the road. The left path leads to the Forest of No Return and right path leads to the City of Eternal Slumber. Which path will you choose? right\n",
      "You come to an old unsturdy wooden bridge. Do you want to cross it or head back (cross/back)? cross\n",
      "You cross the bridge and come across a stranger in need of help. Do you help them (yes/no)? yes\n",
      "You helped the stranger who happened to be the Elrick Warlock, The Grand Wizard of Enchantland. To give thanks he's created a portal that allowed you to travel safely back to your home world. You've made it out of Enchantland! Congratulations! YOU WIN!\n",
      "Thank you for playing Player!\n"
     ]
    }
   ],
   "source": [
    "name = input(\"Type your name: \")\n",
    "print(\"Welcome\", name, \" to Enchantland! Good luck on your journey back home!\")\n",
    "\n",
    "answer = input (\"You are walking on a dirt path and have reached a fork in the road. The left path leads to the Forest of No Return and right path leads to the City of Eternal Slumber. Which path will you choose? \").lower()\n",
    "\n",
    "if answer == \"left\":\n",
    "    answer = input(\"You've come to a large eerie looking river, you can walk around it or swim across (walk/swim).\")\n",
    "    \n",
    "    if answer == \"walk\":\n",
    "        print(\"You walked for many miles, until you got lost, ran out of food, and drinkable water. You lose!\")\n",
    "    \n",
    "    elif answer == \"swim\":\n",
    "        print(\"You swan valiantly across the the river, but was then eaten by the river monster! You lose!\")\n",
    "    \n",
    "    else:\n",
    "        print(\"Not a valid option. The citizens of Enchantland are displeased with your choice and have sentenced you to life in the dungeons, only to be entertained by Juggles the Unfunny. You lose!\")\n",
    "    \n",
    "\n",
    "elif answer == \"right\":\n",
    "    answer = input(\"You come to an old unsturdy wooden bridge. Do you want to cross it or head back (cross/back)? \")\n",
    "    \n",
    "    if answer == \"back\":\n",
    "        print(\"LEEEEROOOOOYYY JEEEEENNKINS!!!......You were ambushed by Leeroy Jenkins and his gang of bandits for your cowardice of not crossing the river. You lose!..... Dammit Leeroy!\")\n",
    "    \n",
    "    elif answer == \"cross\":\n",
    "        answer = input(\"You cross the bridge and come across a stranger in need of help. Do you help them (yes/no)? \")\n",
    "        \n",
    "        if answer == \"yes\":\n",
    "            print(\"You helped the stranger who happened to be the Elrick Warlock, The Grand Wizard of Enchantland. To give thanks he's created a portal that allowed you to travel safely back to your home world. You've made it out of Enchantland! Congratulations! YOU WIN!\")\n",
    "            \n",
    "            \n",
    "        elif answer == \"no\":\n",
    "            print(\"You ignored the stranger and made your way towards the city. As you approach the city gates you start to find yourself getting sleepy. You suddenly go into a deep sleep, with your body unprotected and alone, a stones throw away from the gates. Hours later the stranger at the bridge you once ignored sees you there in a helpless eternal slumber, decides to let nature decide your fate after slighting them earlier. You lose!\")\n",
    "        \n",
    "        else:\n",
    "            print(\"Not a valid option. The Gamemaster does not liked to be trolled this far into the story. I banish thee!! You lose!\")   \n",
    "        \n",
    "            \n",
    "    else:\n",
    "        print(\"Not a valid option. The citizens of Enchantland are displeased with your choice and have sentenced you to life in the dungeons, only to be entertained by Juggles the Unfunny. You lose!\")\n",
    "\n",
    "else:\n",
    "    print(\"Not a valid option. The citizens of Enchantland are displeased with your choice and have sentenced you to life in the dungeons, only to be entertained by Juggles the Unfunny. You lose!\")\n",
    "\n",
    "print(\"Thank you for playing\", name + \"!\")"
   ]
  },
  {
   "cell_type": "code",
   "execution_count": null,
   "id": "ba16bc44",
   "metadata": {},
   "outputs": [],
   "source": []
  }
 ],
 "metadata": {
  "kernelspec": {
   "display_name": "Python 3 (ipykernel)",
   "language": "python",
   "name": "python3"
  },
  "language_info": {
   "codemirror_mode": {
    "name": "ipython",
    "version": 3
   },
   "file_extension": ".py",
   "mimetype": "text/x-python",
   "name": "python",
   "nbconvert_exporter": "python",
   "pygments_lexer": "ipython3",
   "version": "3.9.7"
  }
 },
 "nbformat": 4,
 "nbformat_minor": 5
}
