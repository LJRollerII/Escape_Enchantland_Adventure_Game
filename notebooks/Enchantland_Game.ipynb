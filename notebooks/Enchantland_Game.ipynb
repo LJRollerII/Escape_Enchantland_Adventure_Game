{
 "cells": [
  {
   "cell_type": "code",
   "execution_count": null,
   "id": "c650c398",
   "metadata": {},
   "outputs": [],
   "source": [
    "name = input(\"Type your name: \")\n",
    "print(\"Welcome\", name, \" to Enchantland! Good luck on your journey back home!\")\n",
    "\n",
    "answer = input (\"You are walking on a dirt path and have reached a fork in the road. The left path leads to the Forest of No Return and right path leads to the City of Eternal Slumber. Which path will you choose? \").lower()\n",
    "\n",
    "if answer == \"left\":\n",
    "    answer = input(\"You've come to a river, you can walk around it or swim across. Type walk to walk around or swim to swim across\")\n",
    "    \n",
    "    if answer = \"walk\":\n",
    "        print()\n",
    "    \n",
    "    elif answer = \"swim\":\n",
    "        print()\n",
    "    \n",
    "    else:\n",
    "    print(\"Not a valid option. The citizens of Enchantland are displeased with your choice and have sentenced you to life in the dungeons, only to be entertained by Juggles the Unfunny. You lose!\")\n",
    "    \n",
    "\n",
    "elif answer == \"right\":\n",
    "    print()\n",
    "\n",
    "\n",
    "else:\n",
    "    print(\"Not a valid option. The citizens of Enchantland are displeased with your choice and have sentenced you to life in the dungeons, only to be entertained by Juggles the Unfunny. You lose!\")"
   ]
  }
 ],
 "metadata": {
  "kernelspec": {
   "display_name": "Python 3 (ipykernel)",
   "language": "python",
   "name": "python3"
  },
  "language_info": {
   "codemirror_mode": {
    "name": "ipython",
    "version": 3
   },
   "file_extension": ".py",
   "mimetype": "text/x-python",
   "name": "python",
   "nbconvert_exporter": "python",
   "pygments_lexer": "ipython3",
   "version": "3.9.7"
  }
 },
 "nbformat": 4,
 "nbformat_minor": 5
}
